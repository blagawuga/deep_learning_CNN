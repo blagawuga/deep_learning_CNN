{
 "cells": [
  {
   "cell_type": "markdown",
   "metadata": {},
   "source": [
    "# Boston housing pricing dataset"
   ]
  },
  {
   "cell_type": "markdown",
   "metadata": {},
   "source": [
    "## Importing dataset"
   ]
  },
  {
   "cell_type": "code",
   "execution_count": 23,
   "metadata": {},
   "outputs": [],
   "source": [
    "from keras.datasets import boston_housing\n",
    "import numpy as np\n",
    "\n",
    "(train_data, train_labels), (test_data, test_labels) = boston_housing.load_data()"
   ]
  },
  {
   "cell_type": "markdown",
   "metadata": {},
   "source": [
    "### Get a feel of the data"
   ]
  },
  {
   "cell_type": "code",
   "execution_count": 8,
   "metadata": {},
   "outputs": [
    {
     "name": "stdout",
     "output_type": "stream",
     "text": [
      "Training shape, number of examples --  (404, 13) , 404\n",
      "Test shape, number of examples --  (102, 13) , 102\n",
      "Example train data --  [  1.23247   0.        8.14      0.        0.538     6.142    91.7\n",
      "   3.9769    4.      307.       21.      396.9      18.72   ]\n",
      "Training label eg. --  15.2\n"
     ]
    }
   ],
   "source": [
    "print('Training shape, number of examples -- ', train_data.shape,',', len(train_data))\n",
    "print('Test shape, number of examples -- ', test_data.shape,',', len(test_data))\n",
    "print('Example train data -- ', train_data[0])\n",
    "print('Training label eg. -- ', train_labels[0])"
   ]
  },
  {
   "cell_type": "markdown",
   "metadata": {},
   "source": [
    "### Normalizing the data"
   ]
  },
  {
   "cell_type": "code",
   "execution_count": 9,
   "metadata": {},
   "outputs": [],
   "source": [
    "mean = train_data.mean(axis=0)\n",
    "train_data -= mean\n",
    "std = train_data.std(axis=0)\n",
    "train_data /= std\n",
    "\n",
    "test_data -= mean\n",
    "test_data /= std"
   ]
  },
  {
   "cell_type": "markdown",
   "metadata": {},
   "source": [
    "## Building the network"
   ]
  },
  {
   "cell_type": "code",
   "execution_count": 10,
   "metadata": {},
   "outputs": [],
   "source": [
    "from keras.models import Sequential\n",
    "from keras.layers import Dense\n",
    "\n",
    "def build_model(): # DRY objective\n",
    "    model = Sequential()\n",
    "    model.add(Dense(64, activation='relu', input_shape=(train_data.shape[1],)))\n",
    "    model.add(Dense(634, activation='relu'))\n",
    "    model.add(Dense(1))\n",
    "    model.compile(optimizer='adam', loss='mse', metrics=['mae'])\n",
    "    return model"
   ]
  },
  {
   "cell_type": "markdown",
   "metadata": {},
   "source": [
    "### Using K-fold validation"
   ]
  },
  {
   "cell_type": "markdown",
   "metadata": {},
   "source": [
    "<img src='https://i.stack.imgur.com/k76HN.png' height='40%' width='50%' alt='K-fold validation description'>"
   ]
  },
  {
   "cell_type": "code",
   "execution_count": 37,
   "metadata": {
    "scrolled": true
   },
   "outputs": [
    {
     "name": "stdout",
     "output_type": "stream",
     "text": [
      "Processing fold # 0\n",
      "Specifications --  0 101\n",
      "Specificatinos --  (303, 13) (303,)\n",
      "Specifications -- #2 (101, 13) (101,)\n",
      "Train on 303 samples, validate on 101 samples\n",
      "Epoch 1/10\n",
      "303/303 [==============================] - 1s 3ms/step - loss: 200.8055 - mean_absolute_error: 10.4536 - val_loss: 122.4991 - val_mean_absolute_error: 7.8938\n",
      "Epoch 2/10\n",
      "303/303 [==============================] - 0s 1ms/step - loss: 99.4145 - mean_absolute_error: 7.5584 - val_loss: 57.5995 - val_mean_absolute_error: 6.2220\n",
      "Epoch 3/10\n",
      "303/303 [==============================] - 0s 2ms/step - loss: 71.9582 - mean_absolute_error: 6.0305 - val_loss: 43.1951 - val_mean_absolute_error: 4.5437\n",
      "Epoch 4/10\n",
      "303/303 [==============================] - 0s 1ms/step - loss: 62.1881 - mean_absolute_error: 5.7411 - val_loss: 46.4478 - val_mean_absolute_error: 5.4415\n",
      "Epoch 5/10\n",
      "303/303 [==============================] - 0s 1ms/step - loss: 64.6251 - mean_absolute_error: 5.8561 - val_loss: 64.2330 - val_mean_absolute_error: 6.1223\n",
      "Epoch 6/10\n",
      "303/303 [==============================] - 0s 1ms/step - loss: 57.7182 - mean_absolute_error: 5.4243 - val_loss: 51.1345 - val_mean_absolute_error: 5.7391\n",
      "Epoch 7/10\n",
      "303/303 [==============================] - 0s 1ms/step - loss: 45.4541 - mean_absolute_error: 4.8515 - val_loss: 38.9662 - val_mean_absolute_error: 4.6079\n",
      "Epoch 8/10\n",
      "303/303 [==============================] - 0s 2ms/step - loss: 44.5485 - mean_absolute_error: 4.8814 - val_loss: 70.5292 - val_mean_absolute_error: 5.8003\n",
      "Epoch 9/10\n",
      "303/303 [==============================] - 0s 1ms/step - loss: 51.8555 - mean_absolute_error: 5.2265 - val_loss: 33.8326 - val_mean_absolute_error: 4.0184\n",
      "Epoch 10/10\n",
      "303/303 [==============================] - 0s 2ms/step - loss: 41.8924 - mean_absolute_error: 4.7768 - val_loss: 38.6921 - val_mean_absolute_error: 4.4325\n",
      "Processing fold # 1\n",
      "Specifications --  101 202\n",
      "Specificatinos --  (303, 13) (303,)\n",
      "Specifications -- #2 (101, 13) (101,)\n",
      "Train on 303 samples, validate on 101 samples\n",
      "Epoch 1/10\n",
      "303/303 [==============================] - 1s 3ms/step - loss: 224.7131 - mean_absolute_error: 11.4034 - val_loss: 105.5477 - val_mean_absolute_error: 8.7163\n",
      "Epoch 2/10\n",
      "303/303 [==============================] - 0s 1ms/step - loss: 102.7489 - mean_absolute_error: 7.3071 - val_loss: 66.9370 - val_mean_absolute_error: 6.1849\n",
      "Epoch 3/10\n",
      "303/303 [==============================] - 0s 1ms/step - loss: 76.7475 - mean_absolute_error: 6.3653 - val_loss: 64.8548 - val_mean_absolute_error: 5.5864\n",
      "Epoch 4/10\n",
      "303/303 [==============================] - 0s 1ms/step - loss: 68.2014 - mean_absolute_error: 6.0445 - val_loss: 61.0055 - val_mean_absolute_error: 5.4253\n",
      "Epoch 5/10\n",
      "303/303 [==============================] - 0s 1ms/step - loss: 55.1394 - mean_absolute_error: 5.4517 - val_loss: 42.8512 - val_mean_absolute_error: 4.7102\n",
      "Epoch 6/10\n",
      "303/303 [==============================] - 1s 2ms/step - loss: 57.5301 - mean_absolute_error: 5.3650 - val_loss: 36.9560 - val_mean_absolute_error: 4.8805\n",
      "Epoch 7/10\n",
      "303/303 [==============================] - 1s 2ms/step - loss: 51.1423 - mean_absolute_error: 5.1556 - val_loss: 37.8625 - val_mean_absolute_error: 4.8098\n",
      "Epoch 8/10\n",
      "303/303 [==============================] - 0s 1ms/step - loss: 43.4952 - mean_absolute_error: 4.7279 - val_loss: 29.5265 - val_mean_absolute_error: 3.8776\n",
      "Epoch 9/10\n",
      "303/303 [==============================] - 0s 2ms/step - loss: 46.5776 - mean_absolute_error: 4.8590 - val_loss: 39.9798 - val_mean_absolute_error: 4.5441\n",
      "Epoch 10/10\n",
      "303/303 [==============================] - 0s 1ms/step - loss: 44.1465 - mean_absolute_error: 4.7335 - val_loss: 71.0943 - val_mean_absolute_error: 7.3088\n",
      "Processing fold # 2\n",
      "Specifications --  202 303\n",
      "Specificatinos --  (303, 13) (303,)\n",
      "Specifications -- #2 (101, 13) (101,)\n",
      "Train on 303 samples, validate on 101 samples\n",
      "Epoch 1/10\n",
      "303/303 [==============================] - 1s 3ms/step - loss: 211.7694 - mean_absolute_error: 10.5953 - val_loss: 77.0280 - val_mean_absolute_error: 6.3224\n",
      "Epoch 2/10\n",
      "303/303 [==============================] - 0s 1ms/step - loss: 100.7768 - mean_absolute_error: 7.4086 - val_loss: 150.4066 - val_mean_absolute_error: 10.2793\n",
      "Epoch 3/10\n",
      "303/303 [==============================] - 0s 2ms/step - loss: 92.9669 - mean_absolute_error: 7.0726 - val_loss: 53.5627 - val_mean_absolute_error: 5.0422\n",
      "Epoch 4/10\n",
      "303/303 [==============================] - 0s 1ms/step - loss: 79.9281 - mean_absolute_error: 6.6523 - val_loss: 61.3599 - val_mean_absolute_error: 6.5327\n",
      "Epoch 5/10\n",
      "303/303 [==============================] - 0s 2ms/step - loss: 59.5274 - mean_absolute_error: 5.5024 - val_loss: 51.6584 - val_mean_absolute_error: 5.4930\n",
      "Epoch 6/10\n",
      "303/303 [==============================] - 0s 1ms/step - loss: 56.1776 - mean_absolute_error: 5.4752 - val_loss: 61.4717 - val_mean_absolute_error: 6.3742\n",
      "Epoch 7/10\n",
      "303/303 [==============================] - 0s 2ms/step - loss: 50.2342 - mean_absolute_error: 5.1550 - val_loss: 26.8816 - val_mean_absolute_error: 3.9080\n",
      "Epoch 8/10\n",
      "303/303 [==============================] - 0s 1ms/step - loss: 43.2802 - mean_absolute_error: 4.8709 - val_loss: 23.4984 - val_mean_absolute_error: 3.4151\n",
      "Epoch 9/10\n",
      "303/303 [==============================] - 0s 1ms/step - loss: 42.7920 - mean_absolute_error: 4.8850 - val_loss: 27.3124 - val_mean_absolute_error: 3.5651\n",
      "Epoch 10/10\n",
      "303/303 [==============================] - 0s 1ms/step - loss: 40.0988 - mean_absolute_error: 4.6319 - val_loss: 40.1970 - val_mean_absolute_error: 4.6197\n",
      "Processing fold # 3\n",
      "Specifications --  303 404\n",
      "Specificatinos --  (303, 13) (303,)\n",
      "Specifications -- #2 (101, 13) (101,)\n",
      "Train on 303 samples, validate on 101 samples\n",
      "Epoch 1/10\n",
      "303/303 [==============================] - 1s 3ms/step - loss: 203.0314 - mean_absolute_error: 10.8115 - val_loss: 124.3150 - val_mean_absolute_error: 9.2090\n",
      "Epoch 2/10\n",
      "303/303 [==============================] - 0s 1ms/step - loss: 152.5273 - mean_absolute_error: 9.6821 - val_loss: 116.3864 - val_mean_absolute_error: 7.1379\n",
      "Epoch 3/10\n",
      "303/303 [==============================] - 0s 1ms/step - loss: 89.0387 - mean_absolute_error: 6.9798 - val_loss: 102.3268 - val_mean_absolute_error: 8.6834\n",
      "Epoch 4/10\n",
      "303/303 [==============================] - 0s 1ms/step - loss: 101.8162 - mean_absolute_error: 7.2475 - val_loss: 88.1304 - val_mean_absolute_error: 6.0708\n",
      "Epoch 5/10\n",
      "303/303 [==============================] - 0s 1ms/step - loss: 63.2488 - mean_absolute_error: 6.0470 - val_loss: 81.5587 - val_mean_absolute_error: 6.3703\n",
      "Epoch 6/10\n",
      "303/303 [==============================] - 0s 1ms/step - loss: 51.1959 - mean_absolute_error: 5.1066 - val_loss: 71.5856 - val_mean_absolute_error: 5.3633\n",
      "Epoch 7/10\n",
      "303/303 [==============================] - 0s 1ms/step - loss: 45.9350 - mean_absolute_error: 4.9749 - val_loss: 68.9156 - val_mean_absolute_error: 5.3756\n",
      "Epoch 8/10\n",
      "303/303 [==============================] - 0s 1ms/step - loss: 49.1970 - mean_absolute_error: 5.2398 - val_loss: 78.2755 - val_mean_absolute_error: 5.6967\n",
      "Epoch 9/10\n",
      "303/303 [==============================] - 0s 1ms/step - loss: 41.8115 - mean_absolute_error: 4.8561 - val_loss: 78.7632 - val_mean_absolute_error: 7.7763\n",
      "Epoch 10/10\n",
      "303/303 [==============================] - 0s 1ms/step - loss: 42.7324 - mean_absolute_error: 4.8000 - val_loss: 68.4668 - val_mean_absolute_error: 5.1914\n"
     ]
    }
   ],
   "source": [
    "k = 4\n",
    "num_epochs = 10\n",
    "all_mae_histories = []\n",
    "num_samples = len(train_data) // k\n",
    "\n",
    "for i in range(k):\n",
    "    print('Processing fold #', i)\n",
    "    val_data = train_data[i*num_samples: (i+1)*num_samples] # Slice out the subsection\n",
    "    val_labels = train_labels[i*num_samples: (i+1)*num_samples]\n",
    "    partial_x_train = np.concatenate([train_data[:i*num_samples], train_data[(i+1)*num_samples:]], axis=0)\n",
    "    partial_y_train = np.concatenate([train_labels[:i*num_samples], train_labels[(i+1)*num_samples:]], axis=0)\n",
    "    \n",
    "    model = build_model()\n",
    "    print('Specifications -- ', i*num_samples, (i+1)*num_samples)\n",
    "    print('Specificatinos -- ', partial_x_train.shape, partial_y_train.shape)\n",
    "    print('Specifications -- #2', val_data.shape, val_labels.shape)\n",
    "\n",
    "\n",
    "    history = model.fit(partial_x_train, partial_y_train, validation_data=(val_data, val_labels), epochs=num_epochs, batch_size=1, verbose=1)\n",
    "    mae_history = history.history['val_mean_absolute_error']\n",
    "    all_mae_histories.append(mae_history)"
   ]
  },
  {
   "cell_type": "markdown",
   "metadata": {},
   "source": [
    "### Building history of succesive mean K-fold validation scores"
   ]
  },
  {
   "cell_type": "code",
   "execution_count": 39,
   "metadata": {},
   "outputs": [],
   "source": [
    "average_mae_history = [\n",
    "    np.mean([x[i] for x in all_mae_histories]) for i in range(num_epochs)\n",
    "]"
   ]
  },
  {
   "cell_type": "markdown",
   "metadata": {},
   "source": [
    "## Plotting validation scores"
   ]
  },
  {
   "cell_type": "code",
   "execution_count": 49,
   "metadata": {},
   "outputs": [
    {
     "data": {
      "image/png": "[encoded data removed]",
      "text/plain": [
       "<Figure size 432x288 with 1 Axes>"
      ]
     },
     "metadata": {
      "needs_background": "light"
     },
     "output_type": "display_data"
    }
   ],
   "source": [
    "import matplotlib.pyplot as plt\n",
    "\n",
    "plt.plot(range(1, len(average_mae_history) + 1), average_mae_history)\n",
    "plt.xlabel('Number of epochs')\n",
    "plt.ylabel('Validation MAE')\n",
    "plt.show()"
   ]
  },
  {
   "cell_type": "code",
   "execution_count": null,
   "metadata": {},
   "outputs": [],
   "source": []
  }
 ],
 "metadata": {
  "kernelspec": {
   "display_name": "Python 3",
   "language": "python",
   "name": "python3"
  },
  "language_info": {
   "codemirror_mode": {
    "name": "ipython",
    "version": 3
   },
   "file_extension": ".py",
   "mimetype": "text/x-python",
   "name": "python",
   "nbconvert_exporter": "python",
   "pygments_lexer": "ipython3",
   "version": "3.6.7"
  }
 },
 "nbformat": 4,
 "nbformat_minor": 2
}
