{
 "cells": [
  {
   "cell_type": "markdown",
   "metadata": {},
   "source": [
    "# IMDB reviews dataset"
   ]
  },
  {
   "cell_type": "markdown",
   "metadata": {},
   "source": [
    "## Importing dataset"
   ]
  },
  {
   "cell_type": "code",
   "execution_count": 10,
   "metadata": {},
   "outputs": [],
   "source": [
    "from keras.datasets import imdb\n",
    "\n",
    "(train_data, train_labels), (test_data, test_labels) = imdb.load_data(num_words=10000)"
   ]
  },
  {
   "cell_type": "markdown",
   "metadata": {},
   "source": [
    "### Get a feel of the data"
   ]
  },
  {
   "cell_type": "code",
   "execution_count": 11,
   "metadata": {},
   "outputs": [
    {
     "name": "stdout",
     "output_type": "stream",
     "text": [
      "Word indexes --  [1, 14, 22, 16, 43, 530, 973, 1622, 1385, 65, 458, 4468, 66, 3941, 4, 173, 36, 256, 5, 25, 100, 43, 838, 112, 50, 670, 2, 9, 35, 480, 284, 5, 150, 4, 172, 112, 167, 2, 336, 385, 39, 4, 172, 4536, 1111, 17, 546, 38, 13, 447, 4, 192, 50, 16, 6, 147, 2025, 19, 14, 22, 4, 1920, 4613, 469, 4, 22, 71, 87, 12, 16, 43, 530, 38, 76, 15, 13, 1247, 4, 22, 17, 515, 17, 12, 16, 626, 18, 2, 5, 62, 386, 12, 8, 316, 8, 106, 5, 4, 2223, 5244, 16, 480, 66, 3785, 33, 4, 130, 12, 16, 38, 619, 5, 25, 124, 51, 36, 135, 48, 25, 1415, 33, 6, 22, 12, 215, 28, 77, 52, 5, 14, 407, 16, 82, 2, 8, 4, 107, 117, 5952, 15, 256, 4, 2, 7, 3766, 5, 723, 36, 71, 43, 530, 476, 26, 400, 317, 46, 7, 4, 2, 1029, 13, 104, 88, 4, 381, 15, 297, 98, 32, 2071, 56, 26, 141, 6, 194, 7486, 18, 4, 226, 22, 21, 134, 476, 26, 480, 5, 144, 30, 5535, 18, 51, 36, 28, 224, 92, 25, 104, 4, 226, 65, 16, 38, 1334, 88, 12, 16, 283, 5, 16, 4472, 113, 103, 32, 15, 16, 5345, 19, 178, 32]\n",
      "Positive -- 1 and Negative -- 0 1\n"
     ]
    }
   ],
   "source": [
    "print('Word indexes -- ', train_data[0])\n",
    "print('Positive -- 1 and Negative -- 0', train_labels[0])"
   ]
  },
  {
   "cell_type": "markdown",
   "metadata": {},
   "source": [
    "### None of the word indexes go beyond 9999 (because num_words = 10000)"
   ]
  },
  {
   "cell_type": "code",
   "execution_count": 12,
   "metadata": {},
   "outputs": [
    {
     "data": {
      "text/plain": [
       "9999"
      ]
     },
     "execution_count": 12,
     "metadata": {},
     "output_type": "execute_result"
    }
   ],
   "source": [
    "max([max(sequence) for sequence in train_data])"
   ]
  },
  {
   "cell_type": "markdown",
   "metadata": {},
   "source": [
    "### Try get a feel of the data by seeing what was the review in training and what's the label "
   ]
  },
  {
   "cell_type": "code",
   "execution_count": 13,
   "metadata": {},
   "outputs": [
    {
     "name": "stdout",
     "output_type": "stream",
     "text": [
      "Decoded review --  ? this film was just brilliant casting location scenery story direction everyone's really suited the part they played and you could just imagine being there robert ? is an amazing actor and now the same being director ? father came from the same scottish island as myself so i loved the fact there was a real connection with this film the witty remarks throughout the film were great it was just brilliant so much that i bought the film as soon as it was released for ? and would recommend it to everyone to watch and the fly fishing was amazing really cried at the end it was so sad and you know what they say if you cry at a film it must have been good and this definitely was also ? to the two little boy's that played the ? of norman and paul they were just brilliant children are often left out of the ? list i think because the stars that play them all grown up are such a big profile for the whole film but these children are amazing and should be praised for what they have done don't you think the whole story was so lovely because it was true and was someone's life after all that was shared with us all\n",
      "Label alloted --  1\n"
     ]
    }
   ],
   "source": [
    "word_index = imdb.get_word_index() # word_index contains -- (word, index)\n",
    "reverse_word_index = dict( \n",
    "        [(value, key) for (key, value) in word_index.items()]) # Just reversing the mapping to obtain word from index\n",
    "decoded_review = ' '.join(\n",
    "        [reverse_word_index.get(i - 3, '?') for i in train_data[0]]) # Get the statement of X_train[0]\n",
    "print('Decoded review -- ', decoded_review)\n",
    "print('Label alloted -- ' , train_labels[0])"
   ]
  },
  {
   "cell_type": "markdown",
   "metadata": {},
   "source": [
    "## Preparing data"
   ]
  },
  {
   "cell_type": "markdown",
   "metadata": {},
   "source": [
    "### Cannot use lists in neural nets, so One-hot vectorize your lists -- eg. [3, 5] would appear as numpy 1_D vector with 3 and 5 index as 1 and rest zeros"
   ]
  },
  {
   "cell_type": "code",
   "execution_count": 17,
   "metadata": {},
   "outputs": [],
   "source": [
    "import numpy as np\n",
    "\n",
    "def vectorize_sequences(sequences, dimension=10000):\n",
    "    results = np.zeros((len(sequences), dimension))\n",
    "    for i, sequence in enumerate(sequences):\n",
    "        results[i, sequence] = 1\n",
    "    return results\n",
    "\n",
    "X_train = vectorize_sequences(train_data)\n",
    "X_test = vectorize_sequences(test_data)"
   ]
  },
  {
   "cell_type": "markdown",
   "metadata": {},
   "source": [
    "### Vectorize labels"
   ]
  },
  {
   "cell_type": "code",
   "execution_count": 20,
   "metadata": {},
   "outputs": [],
   "source": [
    "y_train = np.asarray(train_labels).astype('float32')\n",
    "y_test = np.asarray(test_labels).astype('float32')"
   ]
  },
  {
   "cell_type": "markdown",
   "metadata": {},
   "source": [
    "## Defining the network\n",
    "\n",
    "> ### Two intermediate layers with 16 hidden units each\n",
    "> ### A third layer that will output the scalar prediction regarding the sentiment of the current review"
   ]
  },
  {
   "cell_type": "code",
   "execution_count": 29,
   "metadata": {},
   "outputs": [],
   "source": [
    "from keras.models import Sequential\n",
    "from keras.layers import Dense\n",
    "\n",
    "model = Sequential()\n",
    "model.add(Dense(units=16, activation='relu', input_shape=(10000, )))\n",
    "model.add(Dense(16, activation='relu'))\n",
    "model.add(Dense(1, activation='sigmoid'))"
   ]
  },
  {
   "cell_type": "markdown",
   "metadata": {},
   "source": [
    "### Compiling the model"
   ]
  },
  {
   "cell_type": "code",
   "execution_count": 30,
   "metadata": {},
   "outputs": [],
   "source": [
    "from keras import optimizers\n",
    "from keras import metrics"
   ]
  },
  {
   "cell_type": "markdown",
   "metadata": {},
   "source": [
    "### Create validation set to monitor accuracy"
   ]
  },
  {
   "cell_type": "code",
   "execution_count": 31,
   "metadata": {},
   "outputs": [],
   "source": [
    "x_val = X_train[:10000]\n",
    "partial_x_train = X_train[10000:]\n",
    "\n",
    "y_val = y_train[:10000]\n",
    "partial_y_train = y_train[10000:]"
   ]
  },
  {
   "cell_type": "markdown",
   "metadata": {},
   "source": [
    "## Training your model"
   ]
  },
  {
   "cell_type": "code",
   "execution_count": 32,
   "metadata": {},
   "outputs": [
    {
     "name": "stdout",
     "output_type": "stream",
     "text": [
      "Train on 15000 samples, validate on 10000 samples\n",
      "Epoch 1/20\n",
      "15000/15000 [==============================] - 4s 263us/step - loss: 0.5222 - acc: 0.7840 - val_loss: 0.3928 - val_acc: 0.8677\n",
      "Epoch 2/20\n",
      "15000/15000 [==============================] - 2s 131us/step - loss: 0.3151 - acc: 0.8974 - val_loss: 0.3156 - val_acc: 0.8808\n",
      "Epoch 3/20\n",
      "15000/15000 [==============================] - 2s 103us/step - loss: 0.2296 - acc: 0.9255 - val_loss: 0.2791 - val_acc: 0.8919\n",
      "Epoch 4/20\n",
      "15000/15000 [==============================] - 2s 101us/step - loss: 0.1806 - acc: 0.9393 - val_loss: 0.2899 - val_acc: 0.8823\n",
      "Epoch 5/20\n",
      "15000/15000 [==============================] - 2s 105us/step - loss: 0.1428 - acc: 0.9535 - val_loss: 0.3023 - val_acc: 0.8818\n",
      "Epoch 6/20\n",
      "15000/15000 [==============================] - 2s 103us/step - loss: 0.1178 - acc: 0.9629 - val_loss: 0.2924 - val_acc: 0.8864\n",
      "Epoch 7/20\n",
      "15000/15000 [==============================] - 2s 106us/step - loss: 0.0972 - acc: 0.9713 - val_loss: 0.3093 - val_acc: 0.8829\n",
      "Epoch 8/20\n",
      "15000/15000 [==============================] - 2s 104us/step - loss: 0.0767 - acc: 0.9781 - val_loss: 0.3459 - val_acc: 0.8797\n",
      "Epoch 9/20\n",
      "15000/15000 [==============================] - 2s 101us/step - loss: 0.0653 - acc: 0.9825 - val_loss: 0.3670 - val_acc: 0.8749\n",
      "Epoch 10/20\n",
      "15000/15000 [==============================] - 1s 98us/step - loss: 0.0476 - acc: 0.9889 - val_loss: 0.3788 - val_acc: 0.8785\n",
      "Epoch 11/20\n",
      "15000/15000 [==============================] - 1s 97us/step - loss: 0.0405 - acc: 0.9909 - val_loss: 0.4293 - val_acc: 0.8744\n",
      "Epoch 12/20\n",
      "15000/15000 [==============================] - 1s 97us/step - loss: 0.0312 - acc: 0.9941 - val_loss: 0.4344 - val_acc: 0.8770\n",
      "Epoch 13/20\n",
      "15000/15000 [==============================] - 1s 97us/step - loss: 0.0240 - acc: 0.9962 - val_loss: 0.4748 - val_acc: 0.8749\n",
      "Epoch 14/20\n",
      "15000/15000 [==============================] - 1s 97us/step - loss: 0.0192 - acc: 0.9967 - val_loss: 0.5151 - val_acc: 0.8712\n",
      "Epoch 15/20\n",
      "15000/15000 [==============================] - 2s 112us/step - loss: 0.0161 - acc: 0.9969 - val_loss: 0.5294 - val_acc: 0.8717\n",
      "Epoch 16/20\n",
      "15000/15000 [==============================] - 2s 126us/step - loss: 0.0099 - acc: 0.9989 - val_loss: 0.5972 - val_acc: 0.8666\n",
      "Epoch 17/20\n",
      "15000/15000 [==============================] - 2s 108us/step - loss: 0.0072 - acc: 0.9996 - val_loss: 0.6559 - val_acc: 0.8559\n",
      "Epoch 18/20\n",
      "15000/15000 [==============================] - 1s 98us/step - loss: 0.0050 - acc: 0.9998 - val_loss: 0.6390 - val_acc: 0.8652\n",
      "Epoch 19/20\n",
      "15000/15000 [==============================] - 2s 103us/step - loss: 0.0044 - acc: 0.9999 - val_loss: 0.6676 - val_acc: 0.8674\n",
      "Epoch 20/20\n",
      "15000/15000 [==============================] - 1s 97us/step - loss: 0.0045 - acc: 0.9993 - val_loss: 0.7048 - val_acc: 0.8635\n"
     ]
    }
   ],
   "source": [
    "model.compile(optimizer='rmsprop', \n",
    "             loss='binary_crossentropy',\n",
    "             metrics=['acc'])\n",
    "\n",
    "history = model.fit(partial_x_train,\n",
    "                   partial_y_train,\n",
    "                   epochs=20,\n",
    "                   batch_size=512,\n",
    "                   validation_data = (x_val, y_val))"
   ]
  },
  {
   "cell_type": "markdown",
   "metadata": {},
   "source": [
    "## History"
   ]
  },
  {
   "cell_type": "code",
   "execution_count": 33,
   "metadata": {},
   "outputs": [
    {
     "data": {
      "text/plain": [
       "dict_keys(['val_loss', 'val_acc', 'loss', 'acc'])"
      ]
     },
     "execution_count": 33,
     "metadata": {},
     "output_type": "execute_result"
    }
   ],
   "source": [
    "history_dict = history.history\n",
    "history_dict.keys()"
   ]
  },
  {
   "cell_type": "markdown",
   "metadata": {},
   "source": [
    "### Plotting the training and validation loss"
   ]
  },
  {
   "cell_type": "code",
   "execution_count": 35,
   "metadata": {},
   "outputs": [
    {
     "data": {
      "image/png": "[encoded data removed]",
      "text/plain": [
       "<Figure size 432x288 with 1 Axes>"
      ]
     },
     "metadata": {
      "needs_background": "light"
     },
     "output_type": "display_data"
    }
   ],
   "source": [
    "import matplotlib.pyplot as plt\n",
    "\n",
    "history_dict = history.history\n",
    "loss_values = history_dict['loss']\n",
    "val_loss_values = history_dict['val_loss']\n",
    "acc = history_dict['acc']\n",
    "val_acc_values = history_dict['val_acc']\n",
    "\n",
    "epochs = range(1, len(acc)+1)\n",
    "\n",
    "plt.plot(epochs, loss_values, 'bo', label='Training Loss')\n",
    "plt.plot(epochs, val_loss_values, 'b', label='Validation loss')\n",
    "plt.title('Training and validation loss')\n",
    "plt.xlabel('Training and validation loss')\n",
    "plt.ylabel('Epochs')\n",
    "plt.ylabel('Loss')\n",
    "plt.legend()\n",
    "\n",
    "plt.show()"
   ]
  },
  {
   "cell_type": "markdown",
   "metadata": {},
   "source": [
    "### Plotting the training and validation accuracy"
   ]
  },
  {
   "cell_type": "code",
   "execution_count": 37,
   "metadata": {},
   "outputs": [
    {
     "data": {
      "image/png": "[encoded data removed]",
      "text/plain": [
       "<Figure size 432x288 with 1 Axes>"
      ]
     },
     "metadata": {
      "needs_background": "light"
     },
     "output_type": "display_data"
    }
   ],
   "source": [
    "plt.clf() ## Clears the figure\n",
    "\n",
    "plt.plot(epochs, acc, 'bo', label='Training accuracy')\n",
    "plt.plot(epochs, val_acc_values, 'b', label='Validation accuracy')\n",
    "plt.title('Training and validation accuracy')\n",
    "plt.xlabel('Epochs')\n",
    "plt.ylabel('Accuracy')\n",
    "plt.legend()\n",
    "\n",
    "plt.show()"
   ]
  },
  {
   "cell_type": "code",
   "execution_count": null,
   "metadata": {},
   "outputs": [],
   "source": []
  }
 ],
 "metadata": {
  "kernelspec": {
   "display_name": "Python 3",
   "language": "python",
   "name": "python3"
  },
  "language_info": {
   "codemirror_mode": {
    "name": "ipython",
    "version": 3
   },
   "file_extension": ".py",
   "mimetype": "text/x-python",
   "name": "python",
   "nbconvert_exporter": "python",
   "pygments_lexer": "ipython3",
   "version": "3.6.7"
  }
 },
 "nbformat": 4,
 "nbformat_minor": 2
}
